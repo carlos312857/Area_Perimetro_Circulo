{
  "nbformat": 4,
  "nbformat_minor": 0,
  "metadata": {
    "colab": {
      "provenance": [],
      "authorship_tag": "ABX9TyOPRDvvHMkyMa8fdoi9aDIS",
      "include_colab_link": true
    },
    "kernelspec": {
      "name": "python3",
      "display_name": "Python 3"
    },
    "language_info": {
      "name": "python"
    }
  },
  "cells": [
    {
      "cell_type": "markdown",
      "metadata": {
        "id": "view-in-github",
        "colab_type": "text"
      },
      "source": [
        "<a href=\"https://colab.research.google.com/github/carlos312857/Area_Perimetro_Circulo/blob/main/Diccionarios.ipynb\" target=\"_parent\"><img src=\"https://colab.research.google.com/assets/colab-badge.svg\" alt=\"Open In Colab\"/></a>"
      ]
    },
    {
      "cell_type": "code",
      "execution_count": null,
      "metadata": {
        "id": "cg8gk-Okpc_j"
      },
      "outputs": [],
      "source": []
    },
    {
      "cell_type": "markdown",
      "source": [
        "# Diccionarios\n",
        "\n",
        "- son datos estrcturados ,  es desir , referenca a una coleccion  de datos.\n",
        "-son una coleccion desordenada de pares de datos de la dorma clave: valor,conocidos como elementos o itens\n",
        "-son mutables , por tanto , una ves definido un diccionario se le pueden agregar nuevos elementos , modificar o eliminar algunos de los que ya tiene.\n",
        "-tambien se les conoce como mapa de hash o agrreglos asociativos.\n",
        "- en python los diccionarios son de tipo dict y se utiluza la siguiente sintaxis para crear una variable de este tipo:\n",
        "\n",
        "nombre dict = `{clave:valor1,clave2:valor2, ...}`\n",
        "\n",
        "- cada inten o elemento tiene la forma clave:valor\n",
        "- en cada item hay clave y uno o mad valores. si se desconoce el valor, se puede llenar con `none`\n",
        "- los elementos del diccionaro se indexan por la clave\n",
        "-las claves solo pueden ser daros inmutables.\n",
        "-las claves no pueden repetirse dentro de un diccionario."
      ],
      "metadata": {
        "id": "3Jewuj4FpgeV"
      }
    },
    {
      "cell_type": "code",
      "source": [
        "# Diccionario con clave tipo cadena\n",
        "\n",
        "num_meses = {'enero':1,'febrero':2,'marzo':3,'abril':4,'mayo':5,'junio':6,'julio':7,'agosto':8,'septiembre':9,'octubre':10,'noviembre':11,'diciembre':12}\n",
        "print(num_meses)\n",
        "\n",
        "nom_meses = {1:'enero',2:'febrero',3:'marzo',4:'abril',5:'mayo',6:'junio',7:'julio',8:'agosto',9:'septiembre',10:'octubre',11:'noviembre',12:'diciembre'}\n",
        "print(nom_meses)\n",
        "\n",
        "frutas = {'manzana':34, 'pera':45, 'uva':23}\n",
        "print(frutas)\n",
        "\n",
        "# agregar elementos\n",
        "frutas['cereza'] = 90\n",
        "print (frutas)\n",
        "\n",
        "# modificar un elemento\n",
        "frutas['cereza'] = 50\n",
        "print(frutas)\n",
        "\n"
      ],
      "metadata": {
        "colab": {
          "base_uri": "https://localhost:8080/"
        },
        "id": "GGaHn5Y1slA9",
        "outputId": "48ee717e-ebfc-4dd4-d9e4-9e30589853d5"
      },
      "execution_count": 5,
      "outputs": [
        {
          "output_type": "stream",
          "name": "stdout",
          "text": [
            "{'enero': 1, 'febrero': 2, 'marzo': 3, 'abril': 4, 'mayo': 5, 'junio': 6, 'julio': 7, 'agosto': 8, 'septiembre': 9, 'octubre': 10, 'noviembre': 11, 'diciembre': 12}\n",
            "{1: 'enero', 2: 'febrero', 3: 'marzo', 4: 'abril', 5: 'mayo', 6: 'junio', 7: 'julio', 8: 'agosto', 9: 'septiembre', 10: 'octubre', 11: 'noviembre', 12: 'diciembre'}\n",
            "{'manzana': 34, 'pera': 45, 'uva': 23}\n",
            "{'manzana': 34, 'pera': 45, 'uva': 23, 'cereza': 90}\n",
            "{'manzana': 34, 'pera': 45, 'uva': 23, 'cereza': 50}\n"
          ]
        }
      ]
    }
  ]
}